{
 "cells": [
  {
   "cell_type": "code",
   "execution_count": 44,
   "metadata": {
    "collapsed": true
   },
   "outputs": [],
   "source": [
    "import numpy as np\n",
    "import matplotlib.pylab as plt"
   ]
  },
  {
   "cell_type": "code",
   "execution_count": null,
   "metadata": {},
   "outputs": [],
   "source": []
  },
  {
   "cell_type": "code",
   "execution_count": 45,
   "metadata": {},
   "outputs": [],
   "source": [
    "TEX_STR = \"\"\"\\\\documentclass[11pt]{{article}}\n",
    "\\\\begin{{document}}\n",
    "\n",
    "\\\\begin{{description}}\n",
    "\\\\item[Name] {name}\n",
    "\\\\item[Grade] {grade}\n",
    "\\\\item[Points] \\\\hfill\n",
    "  \\\\begin{{description}}\n",
    "  \\\\item[Project] \\\\hfill\n",
    "    \\\\begin{{description}}\n",
    "    \\\\item[C1] {c1}\n",
    "    \\\\item[C2] {c2}\n",
    "    \\\\item[C3] {c3}\n",
    "    \\\\item[C4] {c4}\n",
    "    \\\\item[C5] {c5}\n",
    "    \\\\item[Total] {project-total}\n",
    "    \\\\end{{description}}\n",
    "  \\\\item[Take-home] \\\\hfill\n",
    "    \\\\begin{{description}}\n",
    "    \\\\item[Q1] {q1}\n",
    "    \\\\item[Q2] {q2}\n",
    "    \\\\item[Q3] {q3}\n",
    "    \\\\item[Q4] {q4}\n",
    "    \\\\item[Total] {take-home-total}\n",
    "    \\\\end{{description}}\n",
    "  \\\\item[Total] {total}\n",
    "  \\\\end{{description}}\n",
    "\\\\end{{description}}\n",
    "\\\\end{{document}}\n",
    "\"\"\""
   ]
  },
  {
   "cell_type": "code",
   "execution_count": 46,
   "metadata": {},
   "outputs": [],
   "source": [
    "import csv\n",
    "r = csv.reader(open(\"/home/isak/Documents/Courses/DAMI2/Grading/2017/grades.csv\"), delimiter=\"\\t\")\n",
    "header = next(r)\n",
    "for record in r:\n",
    "    d = dict(zip(header, record))\n",
    "    f = open(\"/home/isak/Documents/Courses/DAMI2/Grading/2017/output/{name}.tex\".format(**d), \"w+\")\n",
    "    f.write(TEX_STR.format(**d))\n",
    "    f.flush()"
   ]
  },
  {
   "cell_type": "code",
   "execution_count": 3,
   "metadata": {},
   "outputs": [
    {
     "data": {
      "text/plain": [
       "array([ 6,  8,  7,  9,  6,  5,  7, 10,  9,  1,  7,  7,  9,  9,  7,  8, 10,\n",
       "        7,  8,  4,  9, 10,  6,  6,  7,  6])"
      ]
     },
     "execution_count": 3,
     "metadata": {},
     "output_type": "execute_result"
    }
   ],
   "source": [
    "x"
   ]
  },
  {
   "cell_type": "code",
   "execution_count": 4,
   "metadata": {},
   "outputs": [
    {
     "data": {
      "text/plain": [
       "(array([ 1.,  0.,  0.,  1.,  1.,  5.,  7.,  3.,  5.,  3.]),\n",
       " array([  1. ,   1.9,   2.8,   3.7,   4.6,   5.5,   6.4,   7.3,   8.2,\n",
       "          9.1,  10. ]),\n",
       " <a list of 10 Patch objects>)"
      ]
     },
     "execution_count": 4,
     "metadata": {},
     "output_type": "execute_result"
    }
   ],
   "source": [
    "plt.hist(x)"
   ]
  },
  {
   "cell_type": "code",
   "execution_count": 5,
   "metadata": {},
   "outputs": [
    {
     "data": {
      "image/png": "[encoded data removed]",
      "text/plain": [
       "<matplotlib.figure.Figure at 0x7f856d230748>"
      ]
     },
     "metadata": {},
     "output_type": "display_data"
    }
   ],
   "source": [
    "plt.show()"
   ]
  },
  {
   "cell_type": "code",
   "execution_count": null,
   "metadata": {
    "collapsed": true
   },
   "outputs": [],
   "source": []
  }
 ],
 "metadata": {
  "kernelspec": {
   "display_name": "Python 3",
   "language": "python",
   "name": "python3"
  },
  "language_info": {
   "codemirror_mode": {
    "name": "ipython",
    "version": 3
   },
   "file_extension": ".py",
   "mimetype": "text/x-python",
   "name": "python",
   "nbconvert_exporter": "python",
   "pygments_lexer": "ipython3",
   "version": "3.6.2"
  }
 },
 "nbformat": 4,
 "nbformat_minor": 2
}
