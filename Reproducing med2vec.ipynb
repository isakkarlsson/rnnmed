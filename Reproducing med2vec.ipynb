{
 "cells": [
  {
   "cell_type": "code",
   "execution_count": 15,
   "metadata": {
    "collapsed": true
   },
   "outputs": [],
   "source": [
    "import tensorflow as tf\n",
    "import numpy as np\n",
    "\n",
    "import random, math, itertools\n",
    "from collections import defaultdict, deque, Counter\n",
    "\n",
    "import matplotlib.pylab as plt\n",
    "\n",
    "%load_ext autoreload\n",
    "%autoreload 2"
   ]
  },
  {
   "cell_type": "code",
   "execution_count": 2,
   "metadata": {
    "collapsed": true
   },
   "outputs": [],
   "source": [
    "m = 512 # code weight matrix dimension\n",
    "n = 1024 # visit weight matrix dimension\n",
    "code_len = 5\n",
    "\n",
    "max_iter = 2000\n",
    "max_iter_progress_report = 100\n",
    "\n",
    "batch_size = 10"
   ]
  },
  {
   "cell_type": "code",
   "execution_count": 37,
   "metadata": {
    "collapsed": true
   },
   "outputs": [],
   "source": [
    "import data.coril as coril\n",
    "import data.mimic as mimic\n",
    "import data.vectorize as vectorize\n",
    "from med2vec import med2vec"
   ]
  },
  {
   "cell_type": "code",
   "execution_count": 34,
   "metadata": {},
   "outputs": [
    {
     "name": "stdout",
     "output_type": "stream",
     "text": [
      "Data contains 14 observations with 259 different codes\n"
     ]
    }
   ],
   "source": [
    "observations, dictionary, reverse_dictionary = coril.read_visits(\"test_data/mimic_demo.seq\")\n",
    "mimic.read_translator(\"test_dicts/mimic_icd9.csv\")\n",
    "code_dim = len(dictionary)\n",
    "print(\"Data contains {} observations with {} different codes\".format(len(observations), C))"
   ]
  },
  {
   "cell_type": "code",
   "execution_count": 46,
   "metadata": {},
   "outputs": [
    {
     "name": "stdout",
     "output_type": "stream",
     "text": [
      "-0.00451277\n"
     ]
    }
   ],
   "source": [
    "input_output_generator = vectorize.random_input_output_generator(observations, dictionary, window_size=1, sample=3)\n",
    "code_weight, visit_weight = med2vec(input_output_generator,\n",
    "                                    code_dim=code_dim,\n",
    "                                    max_iter=max_iter)"
   ]
  },
  {
   "cell_type": "code",
   "execution_count": 35,
   "metadata": {},
   "outputs": [
    {
     "name": "stdout",
     "output_type": "stream",
     "text": [
      "100  iterations 5.55681\n",
      "100  iterations 5.1486\n",
      "100  iterations 4.59105\n",
      "100  iterations 4.34762\n",
      "100  iterations 3.99973\n",
      "100  iterations 3.57796\n",
      "100  iterations 3.12495\n",
      "100  iterations 2.66029\n",
      "100  iterations 2.35496\n",
      "100  iterations 2.07874\n",
      "100  iterations 1.92376\n",
      "100  iterations 1.89491\n",
      "100  iterations 1.84039\n",
      "100  iterations 1.80346\n",
      "100  iterations 1.76527\n",
      "100  iterations 1.77404\n",
      "100  iterations 1.7641\n",
      "100  iterations 1.73778\n",
      "100  iterations 1.71561\n",
      "100  iterations 1.73005\n"
     ]
    }
   ],
   "source": [
    "med2vec = tf.Graph()\n",
    "\n",
    "with med2vec.as_default():\n",
    "    \n",
    "    # x represents a number of visits visits\n",
    "    x = tf.placeholder(tf.float32, shape=(None, C))\n",
    "    \n",
    "    # y represents the context of a visit e.g., a label in another visit\n",
    "    y = tf.placeholder(tf.float32, shape=(None, C))\n",
    "    \n",
    "    # the bias term for the code representation\n",
    "    b_c = tf.Variable(tf.zeros([m]), name=\"b_c\")\n",
    "    \n",
    "    # the code vector\n",
    "    # each code 1..C, is represented by a vector of m elements\n",
    "    # initialized with a small random number\n",
    "    W_c = tf.Variable(tf.random_uniform([C, m], -0.01, 0.01), name=\"W_c\")\n",
    "    \n",
    "    # the intermidiate visit representation is given by the\n",
    "    # sum of the visits (each row of x) multiplied by the code vector \n",
    "    # which is a column of W_c\n",
    "    #u_t = tf.nn.relu(tf.matmul(x, W_c) + b_c, name=\"u_t\")\n",
    "    u_t = tf.nn.relu_layer(x, W_c, b_c)\n",
    "    \n",
    "    # the bias term for the visit representation\n",
    "    b_v = tf.Variable(tf.zeros([n]))\n",
    "    \n",
    "    # the visit weight matrix.  \n",
    "    W_v = tf.Variable(tf.random_uniform([m, n], -0.01, 0.01))\n",
    "        \n",
    "    #v_t = tf.nn.relu(tf.matmul(u_t, W_v) + b_v, name=\"v_t\")\n",
    "    v_t = tf.nn.relu_layer(u_t, W_v, b_v)\n",
    "    \n",
    "    b_s = tf.Variable(tf.zeros([C]))\n",
    "    W_s = tf.Variable(tf.random_uniform([n, C], -0.01, 0.01))\n",
    "    \n",
    "    y_t = tf.matmul(v_t, W_s) + b_s\n",
    "    loss = tf.reduce_mean(tf.nn.softmax_cross_entropy_with_logits(logits=y_t, labels=y))\n",
    "    reg_loss = loss + (0.001 * (tf.nn.l2_loss(W_v) + tf.nn.l2_loss(W_c) + tf.nn.l2_loss(W_s)))\n",
    "   \n",
    "    global_step = tf.Variable(0)\n",
    "    start_learning_rate = 0.5\n",
    "    learning_rate = tf.train.exponential_decay(0.5, global_step, 100000, 0.96, staircase=True)\n",
    "    \n",
    "    optimizer = tf.train.GradientDescentOptimizer(learning_rate).minimize(reg_loss, global_step=global_step)\n",
    "    init = tf.global_variables_initializer()\n",
    "    \n",
    "    \n",
    "with tf.Session(graph=med2vec) as session:\n",
    "\n",
    "    init.run()\n",
    "    loss_values = []\n",
    "    tmp_loss = []\n",
    "    \n",
    "    #vec_obs = vectorize.simple_input_output_generator(\n",
    "    #    observations, dictionary, max_skip_ahead=5, random_output=False)\n",
    "    vec_obs = vectorize.random_input_output_generator(\n",
    "        observations, dictionary, window_size=1, sample=3)\n",
    "    vec_cycle = itertools.cycle(vec_obs)\n",
    "    for i in range(max_iter):\n",
    "        x_data, y_data = vectorize.generate_batch(vec_cycle, batch_size=batch_size)\n",
    "        _, loss_value,  = session.run([optimizer, loss], feed_dict= {x: x_data, y: y_data})\n",
    "\n",
    "        tmp_loss.append(loss_value)\n",
    "        if i % max_iter_progress_report == 0:\n",
    "            print(max_iter_progress_report, \" iterations\", np.mean(tmp_loss))\n",
    "            loss_values.append(np.mean(tmp_loss))\n",
    "            tmp_loss = []\n",
    "        \n",
    "    W_c_val = W_c.eval()\n",
    "    W_v_val = W_v.eval()\n",
    "    b_c_val = b_c.eval()"
   ]
  },
  {
   "cell_type": "code",
   "execution_count": 32,
   "metadata": {},
   "outputs": [
    {
     "data": {
      "image/png": "[encoded data removed]",
      "text/plain": [
       "<matplotlib.figure.Figure at 0x7ff174063860>"
      ]
     },
     "metadata": {},
     "output_type": "display_data"
    }
   ],
   "source": [
    "plt.plot(range(0, max_iter, max_iter_progress_report), loss_values)\n",
    "plt.show()"
   ]
  },
  {
   "cell_type": "code",
   "execution_count": 13,
   "metadata": {},
   "outputs": [],
   "source": [
    "from data import chain_dict\n",
    "translator = chain_dict(reverse_dictionary, code_dictionary)"
   ]
  },
  {
   "cell_type": "code",
   "execution_count": 27,
   "metadata": {},
   "outputs": [
    {
     "data": {
      "text/plain": [
       "['Hypertension NOS',\n",
       " '5185',\n",
       " 'Cardiac tamponade',\n",
       " 'Acute kidney failure NOS',\n",
       " 'Hepatorenal syndrome',\n",
       " '2766',\n",
       " 'Mal neo stomach cardia',\n",
       " 'Int inf clstrdium dfcile',\n",
       " 'Acute cholecystitis',\n",
       " 'Perforation gallbladder']"
      ]
     },
     "execution_count": 27,
     "metadata": {},
     "output_type": "execute_result"
    }
   ],
   "source": [
    "list(map(lambda f: mimic_trans[f], np.argsort(np.maximum(code_weight, 0)[:,100])[::-1][:10]))"
   ]
  },
  {
   "cell_type": "code",
   "execution_count": 30,
   "metadata": {},
   "outputs": [
    {
     "data": {
      "text/plain": [
       "(259,)"
      ]
     },
     "execution_count": 30,
     "metadata": {},
     "output_type": "execute_result"
    }
   ],
   "source": [
    "W_c_val[:,1].shape"
   ]
  },
  {
   "cell_type": "code",
   "execution_count": null,
   "metadata": {
    "collapsed": true
   },
   "outputs": [],
   "source": []
  },
  {
   "cell_type": "code",
   "execution_count": 2,
   "metadata": {},
   "outputs": [
    {
     "name": "stdout",
     "output_type": "stream",
     "text": [
      "Data contains 14 observations with 259 different codes\n",
      "INFO:tensorflow:Scale of 0 disables regularizer.\n"
     ]
    },
    {
     "ename": "ValueError",
     "evalue": "Rank mismatch: Rank of labels (received 2) should equal rank of logits minus 1 (received 2).",
     "output_type": "error",
     "traceback": [
      "\u001b[0;31m---------------------------------------------------------------------------\u001b[0m",
      "\u001b[0;31mValueError\u001b[0m                                Traceback (most recent call last)",
      "\u001b[0;32m<ipython-input-2-f65eb418201d>\u001b[0m in \u001b[0;36m<module>\u001b[0;34m()\u001b[0m\n\u001b[1;32m     29\u001b[0m               \u001b[0mcode_rep_dim\u001b[0m\u001b[0;34m=\u001b[0m\u001b[0mm\u001b[0m\u001b[0;34m,\u001b[0m\u001b[0;34m\u001b[0m\u001b[0m\n\u001b[1;32m     30\u001b[0m               \u001b[0mvisit_rep_dim\u001b[0m\u001b[0;34m=\u001b[0m\u001b[0mn\u001b[0m\u001b[0;34m,\u001b[0m\u001b[0;34m\u001b[0m\u001b[0m\n\u001b[0;32m---> 31\u001b[0;31m               l2_reg=0.0)\n\u001b[0m",
      "\u001b[0;32m~/Projects/recurrent_medical/med2vec.py\u001b[0m in \u001b[0;36mmed2vec\u001b[0;34m(input_output_generator, code_dim, code_rep_dim, visit_rep_dim, batch_size, max_iter, max_iter_progress_report, start_learning_rate, l2_reg)\u001b[0m\n\u001b[1;32m     59\u001b[0m         loss = tf.reduce_mean(\n\u001b[1;32m     60\u001b[0m             tf.nn.sparse_softmax_cross_entropy_with_logits(logits=y_hat,\n\u001b[0;32m---> 61\u001b[0;31m                                                            labels=y))\n\u001b[0m\u001b[1;32m     62\u001b[0m \u001b[0;34m\u001b[0m\u001b[0m\n\u001b[1;32m     63\u001b[0m         reg_variables = tf.get_collection(\n",
      "\u001b[0;32m~/.pyenv/versions/anaconda3-5.0.0/lib/python3.6/site-packages/tensorflow/python/ops/nn_ops.py\u001b[0m in \u001b[0;36msparse_softmax_cross_entropy_with_logits\u001b[0;34m(_sentinel, labels, logits, name)\u001b[0m\n\u001b[1;32m   1687\u001b[0m       raise ValueError(\"Rank mismatch: Rank of labels (received %s) should \"\n\u001b[1;32m   1688\u001b[0m                        \u001b[0;34m\"equal rank of logits minus 1 (received %s).\"\u001b[0m \u001b[0;34m%\u001b[0m\u001b[0;34m\u001b[0m\u001b[0m\n\u001b[0;32m-> 1689\u001b[0;31m                        (labels_static_shape.ndims, logits.get_shape().ndims))\n\u001b[0m\u001b[1;32m   1690\u001b[0m     \u001b[0;31m# Check if no reshapes are required.\u001b[0m\u001b[0;34m\u001b[0m\u001b[0;34m\u001b[0m\u001b[0m\n\u001b[1;32m   1691\u001b[0m     \u001b[0;32mif\u001b[0m \u001b[0mlogits\u001b[0m\u001b[0;34m.\u001b[0m\u001b[0mget_shape\u001b[0m\u001b[0;34m(\u001b[0m\u001b[0;34m)\u001b[0m\u001b[0;34m.\u001b[0m\u001b[0mndims\u001b[0m \u001b[0;34m==\u001b[0m \u001b[0;36m2\u001b[0m\u001b[0;34m:\u001b[0m\u001b[0;34m\u001b[0m\u001b[0m\n",
      "\u001b[0;31mValueError\u001b[0m: Rank mismatch: Rank of labels (received 2) should equal rank of logits minus 1 (received 2)."
     ]
    }
   ],
   "source": [
    "from med2vec import med2vec\n",
    "import data.io\n",
    "import data.vectorize as vectorize\n",
    "\n",
    "m = 1024  # code weight matrix dimension\n",
    "n = 2048  # visit weight matrix dimension\n",
    "code_len = 2\n",
    "transform = lambda code: code[:code_len]\n",
    "transform = None\n",
    "\n",
    "max_iter = 500\n",
    "max_iter_progress_report = 100\n",
    "\n",
    "batch_size = 128\n",
    "\n",
    "observations, dictionary, reverse_dictionary = data.io.read_visits(\n",
    "    \"test_data/mimic_demo.seq\")\n",
    "# observations, dictionary, reverse_dictionary = data.io.read_visits(\n",
    "#    \"/mnt/veracrypt1/val/slv_events.seq\", transform=transform)\n",
    "code_dim = len(dictionary)\n",
    "print(\"Data contains {} observations with {} different codes\".format(\n",
    "        len(observations), code_dim))\n",
    "\n",
    "input_output_generator = vectorize.random_input_output_generator(\n",
    "    observations, dictionary, window_size=1, sample=3)\n",
    "m2v = med2vec(input_output_generator,\n",
    "              code_dim=code_dim,\n",
    "              max_iter=max_iter,\n",
    "              code_rep_dim=m,\n",
    "              visit_rep_dim=n,\n",
    "              l2_reg=0.0)"
   ]
  },
  {
   "cell_type": "code",
   "execution_count": 9,
   "metadata": {},
   "outputs": [
    {
     "name": "stdout",
     "output_type": "stream",
     "text": [
      "{'311', '2859', '99592', '0389', '0414', '4439', '4019', '78552', '4280', 'V4582', 'V4581', '51881', '2765', 'V1201', '5990', '41400', '5781'}\n",
      "[[  0.           0.          11.87607757 ...,   7.39745347   0.\n",
      "    4.24584372]]\n"
     ]
    }
   ],
   "source": [
    "observation = observations[1][0]\n",
    "print(observation)\n",
    "visit = vectorize._vectorize_visit(observation, dictionary)\n",
    "print(m2v.transform(visit))"
   ]
  },
  {
   "cell_type": "code",
   "execution_count": 12,
   "metadata": {},
   "outputs": [
    {
     "data": {
      "text/plain": [
       "(259, 1024)"
      ]
     },
     "execution_count": 12,
     "metadata": {},
     "output_type": "execute_result"
    }
   ],
   "source": [
    "m2v.code_weight.shape"
   ]
  },
  {
   "cell_type": "code",
   "execution_count": null,
   "metadata": {},
   "outputs": [],
   "source": []
  },
  {
   "cell_type": "code",
   "execution_count": null,
   "metadata": {
    "collapsed": true
   },
   "outputs": [],
   "source": []
  }
 ],
 "metadata": {
  "kernelspec": {
   "display_name": "Python 3",
   "language": "python",
   "name": "python3"
  },
  "language_info": {
   "codemirror_mode": {
    "name": "ipython",
    "version": 3
   },
   "file_extension": ".py",
   "mimetype": "text/x-python",
   "name": "python",
   "nbconvert_exporter": "python",
   "pygments_lexer": "ipython3",
   "version": "3.6.2"
  }
 },
 "nbformat": 4,
 "nbformat_minor": 2
}
