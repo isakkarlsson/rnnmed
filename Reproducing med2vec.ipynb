{
 "cells": [
  {
   "cell_type": "code",
   "execution_count": 1,
   "metadata": {},
   "outputs": [],
   "source": [
    "import tensorflow as tf\n",
    "import numpy as np\n",
    "\n",
    "import random, math, itertools\n",
    "from collections import defaultdict, deque, Counter\n",
    "\n",
    "import matplotlib.pylab as plt\n",
    "\n",
    "%load_ext autoreload\n",
    "%autoreload 2"
   ]
  },
  {
   "cell_type": "code",
   "execution_count": 17,
   "metadata": {
    "collapsed": true
   },
   "outputs": [],
   "source": [
    "m = 512 # code weight matrix dimension\n",
    "n = 1024 # visit weight matrix dimension\n",
    "code_len = 5\n",
    "\n",
    "max_iter = 2000\n",
    "max_iter_progress_report = 100\n",
    "\n",
    "batch_size = 10"
   ]
  },
  {
   "cell_type": "code",
   "execution_count": 18,
   "metadata": {},
   "outputs": [],
   "source": [
    "import data.coril as coril\n",
    "import data.vectorize as vectorize"
   ]
  },
  {
   "cell_type": "code",
   "execution_count": 19,
   "metadata": {},
   "outputs": [
    {
     "name": "stdout",
     "output_type": "stream",
     "text": [
      "259\n"
     ]
    }
   ],
   "source": [
    "observations, dictionary, reverse_dictionary = coril.read_visits(\"mic.seq\", code_len=code_len)\n",
    "C = len(dictionary)\n",
    "print(C)"
   ]
  },
  {
   "cell_type": "code",
   "execution_count": 20,
   "metadata": {},
   "outputs": [
    {
     "name": "stdout",
     "output_type": "stream",
     "text": [
      "100  iterations 5.55685\n",
      "100  iterations 5.01945\n",
      "100  iterations 4.44075\n",
      "100  iterations 4.23166\n",
      "100  iterations 3.85642\n",
      "100  iterations 3.37367\n",
      "100  iterations 2.86229\n",
      "100  iterations 2.59532\n",
      "100  iterations 2.23686\n",
      "100  iterations 2.0227\n",
      "100  iterations 1.89492\n",
      "100  iterations 1.85474\n",
      "100  iterations 1.82032\n",
      "100  iterations 1.78312\n",
      "100  iterations 1.75218\n",
      "100  iterations 1.75993\n",
      "100  iterations 1.75837\n",
      "100  iterations 1.72195\n",
      "100  iterations 1.71153\n",
      "100  iterations 1.72273\n"
     ]
    }
   ],
   "source": [
    "med2vec = tf.Graph()\n",
    "\n",
    "with med2vec.as_default():\n",
    "    \n",
    "    # x represents a number of visits visits\n",
    "    x = tf.placeholder(tf.float32, shape=(None, C))\n",
    "    \n",
    "    # y represents the context of a visit e.g., a label in another visit\n",
    "    y = tf.placeholder(tf.float32, shape=(None, C))\n",
    "    \n",
    "    # the bias term for the code representation\n",
    "    b_c = tf.Variable(tf.zeros([m]), name=\"b_c\")\n",
    "    \n",
    "    # the code vector\n",
    "    # each code 1..C, is represented by a vector of m elements\n",
    "    # initialized with a small random number\n",
    "    W_c = tf.Variable(tf.random_uniform([C, m], -0.01, 0.01), name=\"W_c\")\n",
    "    \n",
    "    # the intermidiate visit representation is given by the\n",
    "    # sum of the visits (each row of x) multiplied by the code vector \n",
    "    # which is a column of W_c\n",
    "    #u_t = tf.nn.relu(tf.matmul(x, W_c) + b_c, name=\"u_t\")\n",
    "    u_t = tf.nn.relu_layer(x, W_c, b_c)\n",
    "    \n",
    "    # the bias term for the visit representation\n",
    "    b_v = tf.Variable(tf.zeros([n]))\n",
    "    \n",
    "    # the visit weight matrix.  \n",
    "    W_v = tf.Variable(tf.random_uniform([m, n], -0.01, 0.01))\n",
    "        \n",
    "    #v_t = tf.nn.relu(tf.matmul(u_t, W_v) + b_v, name=\"v_t\")\n",
    "    v_t = tf.nn.relu_layer(u_t, W_v, b_v)\n",
    "    \n",
    "    b_s = tf.Variable(tf.zeros([C]))\n",
    "    W_s = tf.Variable(tf.random_uniform([n, C], -0.01, 0.01))\n",
    "    \n",
    "    y_t = tf.matmul(v_t, W_s) + b_s\n",
    "    loss = tf.reduce_mean(tf.nn.softmax_cross_entropy_with_logits(logits=y_t, labels=y))\n",
    "    reg_loss = loss + (0.001 * (tf.nn.l2_loss(W_v) + tf.nn.l2_loss(W_c) + tf.nn.l2_loss(W_s)))\n",
    "   \n",
    "    global_step = tf.Variable(0)\n",
    "    start_learning_rate = 0.5\n",
    "    learning_rate = tf.train.exponential_decay(0.5, global_step, 100000, 0.96, staircase=True)\n",
    "    \n",
    "    optimizer = tf.train.GradientDescentOptimizer(learning_rate).minimize(reg_loss, global_step=global_step)\n",
    "    init = tf.global_variables_initializer()\n",
    "    \n",
    "    \n",
    "with tf.Session(graph=med2vec) as session:\n",
    "\n",
    "    init.run()\n",
    "    loss_values = []\n",
    "    tmp_loss = []\n",
    "    \n",
    "    #vec_obs = vectorize.simple_input_output_generator(\n",
    "    #    observations, dictionary, max_skip_ahead=5, random_output=False)\n",
    "    vec_obs = vectorize.random_input_output_generator(\n",
    "        observations, dictionary, window_size=1, sample=3)\n",
    "    vec_cycle = itertools.cycle(vec_obs)\n",
    "    for i in range(max_iter):\n",
    "        x_data, y_data = vectorize.generate_batch(vec_cycle, batch_size=batch_size)\n",
    "        _, loss_value,  = session.run([optimizer, loss], feed_dict= {x: x_data, y: y_data})\n",
    "\n",
    "        tmp_loss.append(loss_value)\n",
    "        if i % max_iter_progress_report == 0:\n",
    "            print(max_iter_progress_report, \" iterations\", np.mean(tmp_loss))\n",
    "            loss_values.append(np.mean(tmp_loss))\n",
    "            tmp_loss = []\n",
    "        \n",
    "    W_c_val = W_c.eval()\n",
    "    W_v_val = W_v.eval()\n",
    "    b_c_val = b_c.eval()"
   ]
  },
  {
   "cell_type": "code",
   "execution_count": 21,
   "metadata": {},
   "outputs": [
    {
     "data": {
      "image/png": "[encoded data removed]",
      "text/plain": [
       "<matplotlib.figure.Figure at 0x18a00d89400>"
      ]
     },
     "metadata": {},
     "output_type": "display_data"
    }
   ],
   "source": [
    "plt.plot(range(0, max_iter, max_iter_progress_report), loss_values)\n",
    "plt.show()"
   ]
  },
  {
   "cell_type": "code",
   "execution_count": 22,
   "metadata": {},
   "outputs": [
    {
     "data": {
      "image/png": "[encoded data removed]",
      "text/plain": [
       "<matplotlib.figure.Figure at 0x18a0188fba8>"
      ]
     },
     "metadata": {},
     "output_type": "display_data"
    }
   ],
   "source": [
    "plt.plot(range(0, max_iter, max_iter_progress_report), loss_values)\n",
    "plt.show()"
   ]
  },
  {
   "cell_type": "code",
   "execution_count": 23,
   "metadata": {
    "collapsed": true
   },
   "outputs": [],
   "source": [
    "def read_translate(f, code_len=None):\n",
    "    with open(f) as lines:\n",
    "        d = {}\n",
    "        for code, translation in map(lambda x: x.strip().split(\"|\"), lines):\n",
    "            d[code[:code_len] if code_len is not None else code] = translation\n",
    "        return d\n",
    "icd_translator = read_translate(\"icd10.txt\", code_len=code_len)"
   ]
  },
  {
   "cell_type": "code",
   "execution_count": 24,
   "metadata": {},
   "outputs": [],
   "source": [
    "import data.mimic as mimic\n",
    "\n",
    "mimic_trans = mimic.read_translator(\"D_ICD_DIAGNOSES.csv\")"
   ]
  },
  {
   "cell_type": "code",
   "execution_count": 25,
   "metadata": {},
   "outputs": [
    {
     "data": {
      "text/plain": [
       "'Cirrhosis of liver NOS'"
      ]
     },
     "execution_count": 25,
     "metadata": {},
     "output_type": "execute_result"
    }
   ],
   "source": [
    "def make_translator(*translators):\n",
    "    def f(code):\n",
    "        r = code\n",
    "        for translator in translators:\n",
    "            r = translator[code]\n",
    "            if r is None:\n",
    "                return code\n",
    "            code = r\n",
    "        return code\n",
    "    return f\n",
    "\n",
    "translator = make_translator(reverse_dictionary, mimic_trans)\n",
    "translator(0)"
   ]
  },
  {
   "cell_type": "code",
   "execution_count": 27,
   "metadata": {},
   "outputs": [
    {
     "data": {
      "text/plain": [
       "['Acidosis',\n",
       " 'Thrombocytopenia NOS',\n",
       " 'Glossitis',\n",
       " 'Mult mye w/o achv rmson',\n",
       " 'Bacteremia',\n",
       " 'Long-term use of insulin',\n",
       " 'Periph vascular dis NOS',\n",
       " 'Cor ath unsp vsl ntv/gft',\n",
       " 'Gastroduodenal dis NEC',\n",
       " 'Alcoh dep NEC/NOS-remiss']"
      ]
     },
     "execution_count": 27,
     "metadata": {},
     "output_type": "execute_result"
    }
   ],
   "source": [
    "list(map(lambda f: translator(f), np.argsort(np.maximum(W_c_val, 0)[:,100])[::-1][:10]))"
   ]
  },
  {
   "cell_type": "code",
   "execution_count": 30,
   "metadata": {},
   "outputs": [
    {
     "data": {
      "text/plain": [
       "(259,)"
      ]
     },
     "execution_count": 30,
     "metadata": {},
     "output_type": "execute_result"
    }
   ],
   "source": [
    "W_c_val[:,1].shape"
   ]
  },
  {
   "cell_type": "code",
   "execution_count": null,
   "metadata": {
    "collapsed": true
   },
   "outputs": [],
   "source": []
  }
 ],
 "metadata": {
  "kernelspec": {
   "display_name": "Python 3",
   "language": "python",
   "name": "python3"
  },
  "language_info": {
   "codemirror_mode": {
    "name": "ipython",
    "version": 3
   },
   "file_extension": ".py",
   "mimetype": "text/x-python",
   "name": "python",
   "nbconvert_exporter": "python",
   "pygments_lexer": "ipython3",
   "version": "3.6.2"
  }
 },
 "nbformat": 4,
 "nbformat_minor": 2
}
